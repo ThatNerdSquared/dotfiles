{
 "cells": [
  {
   "cell_type": "markdown",
   "metadata": {},
   "source": [
    "# Biology Tools"
   ]
  },
  {
   "cell_type": "markdown",
   "metadata": {},
   "source": [
    "## Punnett Square - 4x4"
   ]
  },
  {
   "cell_type": "code",
   "execution_count": 2,
   "metadata": {},
   "outputs": [],
   "source": [
    "import pandas as pd\n",
    "import numpy as np"
   ]
  },
  {
   "cell_type": "code",
   "execution_count": 21,
   "metadata": {},
   "outputs": [
    {
     "name": "stdout",
     "output_type": "stream",
     "text": [
      "SsFf ssFF\n",
      "['SF', 'Sf', 'sF', 'sf'] ['sF', 'sF', 'sF', 'sF']\n"
     ]
    }
   ],
   "source": [
    "parent1 = input(\"What is the first parent's genotype?\")\n",
    "parent2 = input(\"What is the second parent's genotype?\")\n",
    "print(parent1,parent2)\n",
    "parent1_alleles = [parent1[0] + parent1[2], parent1[0] + parent1[3], parent1[1] + parent1[2], parent1[1] + parent1[3]]\n",
    "parent2_alleles = [parent2[0] + parent2[2], parent2[0] + parent2[3], parent2[1] + parent2[2], parent2[1] + parent2[3]]\n",
    "print(parent1_alleles,parent2_alleles)"
   ]
  },
  {
   "cell_type": "code",
   "execution_count": 22,
   "metadata": {},
   "outputs": [
    {
     "name": "stdout",
     "output_type": "stream",
     "text": [
      "[['SFsF', 'SFsF', 'SFsF', 'SFsF'], ['SfsF', 'SfsF', 'SfsF', 'SfsF'], ['sFsF', 'sFsF', 'sFsF', 'sFsF'], ['sfsF', 'sfsF', 'sfsF', 'sfsF']]\n"
     ]
    }
   ],
   "source": [
    "data = []\n",
    "\n",
    "for parent1_allele in parent1_alleles:\n",
    "\tallele_data = []\n",
    "\tfor parent2_allele in parent2_alleles:\n",
    "\t\tallele_data.append(parent1_allele + parent2_allele)\n",
    "\tdata.append(allele_data)\n",
    "\n",
    "print(data)"
   ]
  },
  {
   "cell_type": "code",
   "execution_count": 23,
   "metadata": {},
   "outputs": [
    {
     "data": {
      "text/html": [
       "<div>\n",
       "<style scoped>\n",
       "    .dataframe tbody tr th:only-of-type {\n",
       "        vertical-align: middle;\n",
       "    }\n",
       "\n",
       "    .dataframe tbody tr th {\n",
       "        vertical-align: top;\n",
       "    }\n",
       "\n",
       "    .dataframe thead th {\n",
       "        text-align: right;\n",
       "    }\n",
       "</style>\n",
       "<table border=\"1\" class=\"dataframe\">\n",
       "  <thead>\n",
       "    <tr style=\"text-align: right;\">\n",
       "      <th></th>\n",
       "      <th>SF</th>\n",
       "      <th>Sf</th>\n",
       "      <th>sF</th>\n",
       "      <th>sf</th>\n",
       "    </tr>\n",
       "  </thead>\n",
       "  <tbody>\n",
       "    <tr>\n",
       "      <th>sF</th>\n",
       "      <td>SFsF</td>\n",
       "      <td>SFsF</td>\n",
       "      <td>SFsF</td>\n",
       "      <td>SFsF</td>\n",
       "    </tr>\n",
       "    <tr>\n",
       "      <th>sF</th>\n",
       "      <td>SfsF</td>\n",
       "      <td>SfsF</td>\n",
       "      <td>SfsF</td>\n",
       "      <td>SfsF</td>\n",
       "    </tr>\n",
       "    <tr>\n",
       "      <th>sF</th>\n",
       "      <td>sFsF</td>\n",
       "      <td>sFsF</td>\n",
       "      <td>sFsF</td>\n",
       "      <td>sFsF</td>\n",
       "    </tr>\n",
       "    <tr>\n",
       "      <th>sF</th>\n",
       "      <td>sfsF</td>\n",
       "      <td>sfsF</td>\n",
       "      <td>sfsF</td>\n",
       "      <td>sfsF</td>\n",
       "    </tr>\n",
       "  </tbody>\n",
       "</table>\n",
       "</div>"
      ],
      "text/plain": [
       "      SF    Sf    sF    sf\n",
       "sF  SFsF  SFsF  SFsF  SFsF\n",
       "sF  SfsF  SfsF  SfsF  SfsF\n",
       "sF  sFsF  sFsF  sFsF  sFsF\n",
       "sF  sfsF  sfsF  sfsF  sfsF"
      ]
     },
     "execution_count": 23,
     "metadata": {},
     "output_type": "execute_result"
    }
   ],
   "source": [
    "df = pd.DataFrame(data, index=parent2_alleles, columns=parent1_alleles)\n",
    "df"
   ]
  },
  {
   "cell_type": "markdown",
   "metadata": {},
   "source": [
    "## Punnett Square - 2x2\n"
   ]
  },
  {
   "cell_type": "code",
   "execution_count": 6,
   "metadata": {},
   "outputs": [],
   "source": [
    "import pandas as pd\n",
    "import numpy as np"
   ]
  },
  {
   "cell_type": "code",
   "execution_count": 7,
   "metadata": {},
   "outputs": [
    {
     "data": {
      "text/html": [
       "<div>\n",
       "<style scoped>\n",
       "    .dataframe tbody tr th:only-of-type {\n",
       "        vertical-align: middle;\n",
       "    }\n",
       "\n",
       "    .dataframe tbody tr th {\n",
       "        vertical-align: top;\n",
       "    }\n",
       "\n",
       "    .dataframe thead th {\n",
       "        text-align: right;\n",
       "    }\n",
       "</style>\n",
       "<table border=\"1\" class=\"dataframe\">\n",
       "  <thead>\n",
       "    <tr style=\"text-align: right;\">\n",
       "      <th></th>\n",
       "      <th>X</th>\n",
       "      <th>^</th>\n",
       "    </tr>\n",
       "  </thead>\n",
       "  <tbody>\n",
       "    <tr>\n",
       "      <th>X</th>\n",
       "      <td>XX</td>\n",
       "      <td>XX</td>\n",
       "    </tr>\n",
       "    <tr>\n",
       "      <th>X</th>\n",
       "      <td>^X</td>\n",
       "      <td>^X</td>\n",
       "    </tr>\n",
       "  </tbody>\n",
       "</table>\n",
       "</div>"
      ],
      "text/plain": [
       "    X   ^\n",
       "X  XX  XX\n",
       "X  ^X  ^X"
      ]
     },
     "execution_count": 7,
     "metadata": {},
     "output_type": "execute_result"
    }
   ],
   "source": [
    "parent1 = input(\"What is the first parent's genotype?\")\n",
    "parent2 = input(\"What is the second parent's genotype?\")\n",
    "\n",
    "parent1_alleles = [parent1[0], parent1[1]]\n",
    "parent2_alleles = [parent2[0], parent2[1]]\n",
    "\n",
    "data = []\n",
    "\n",
    "for parent1_allele in parent1_alleles:\n",
    "\tallele_data = []\n",
    "\tfor parent2_allele in parent2_alleles:\n",
    "\t\tallele_data.append(parent1_allele + parent2_allele)\n",
    "\tdata.append(allele_data)\n",
    "\n",
    "df = pd.DataFrame(data, index=parent2_alleles, columns=parent1_alleles)\n",
    "df"
   ]
  }
 ],
 "metadata": {
  "interpreter": {
   "hash": "50292dbb1f747f7151d445135d392af3138fb3c65386d17d9510cb605222b10b"
  },
  "kernelspec": {
   "display_name": "Python 3 (ipykernel)",
   "language": "python",
   "name": "python3"
  },
  "language_info": {
   "codemirror_mode": {
    "name": "ipython",
    "version": 3
   },
   "file_extension": ".py",
   "mimetype": "text/x-python",
   "name": "python",
   "nbconvert_exporter": "python",
   "pygments_lexer": "ipython3",
   "version": "3.9.9"
  }
 },
 "nbformat": 4,
 "nbformat_minor": 4
}
