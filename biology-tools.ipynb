{
 "cells": [
  {
   "cell_type": "markdown",
   "source": [
    "# Biology Tools"
   ],
   "metadata": {}
  },
  {
   "cell_type": "code",
   "execution_count": 1,
   "source": [
    "import pandas as pd\n",
    "import numpy as np"
   ],
   "outputs": [],
   "metadata": {}
  },
  {
   "cell_type": "code",
   "execution_count": 2,
   "source": [
    "parent1 = input(\"What is the first parent's genotype?\")\n",
    "parent2 = input(\"What is the second parent's genotype?\")\n",
    "print(parent1,parent2)\n",
    "parent1_alleles = [parent1[0] + parent1[2], parent1[0] + parent1[3], parent1[1] + parent1[2], parent1[1] + parent1[3]]\n",
    "parent2_alleles = [parent2[0] + parent2[2], parent2[0] + parent2[3], parent2[1] + parent2[2], parent2[1] + parent2[3]]\n",
    "print(parent1_alleles,parent2_alleles)"
   ],
   "outputs": [
    {
     "output_type": "stream",
     "name": "stdout",
     "text": [
      "SsFf ssFf\n",
      "['SF', 'Sf', 'sF', 'sf'] ['sF', 'sf', 'sF', 'sf']\n"
     ]
    }
   ],
   "metadata": {}
  },
  {
   "cell_type": "code",
   "execution_count": 3,
   "source": [
    "data = []\n",
    "\n",
    "for parent1_allele in parent1_alleles:\n",
    "\tallele_data = []\n",
    "\tfor parent2_allele in parent2_alleles:\n",
    "\t\tallele_data.append(parent1_allele + parent2_allele)\n",
    "\tdata.append(allele_data)\n",
    "\n",
    "print(data)"
   ],
   "outputs": [
    {
     "output_type": "stream",
     "name": "stdout",
     "text": [
      "[['SFsF', 'SFsf', 'SFsF', 'SFsf'], ['SfsF', 'Sfsf', 'SfsF', 'Sfsf'], ['sFsF', 'sFsf', 'sFsF', 'sFsf'], ['sfsF', 'sfsf', 'sfsF', 'sfsf']]\n"
     ]
    }
   ],
   "metadata": {}
  },
  {
   "cell_type": "code",
   "execution_count": 4,
   "source": [
    "df = pd.DataFrame(data, index=parent2_alleles, columns=parent1_alleles)\n",
    "df"
   ],
   "outputs": [
    {
     "output_type": "execute_result",
     "data": {
      "text/html": [
       "<div>\n",
       "<style scoped>\n",
       "    .dataframe tbody tr th:only-of-type {\n",
       "        vertical-align: middle;\n",
       "    }\n",
       "\n",
       "    .dataframe tbody tr th {\n",
       "        vertical-align: top;\n",
       "    }\n",
       "\n",
       "    .dataframe thead th {\n",
       "        text-align: right;\n",
       "    }\n",
       "</style>\n",
       "<table border=\"1\" class=\"dataframe\">\n",
       "  <thead>\n",
       "    <tr style=\"text-align: right;\">\n",
       "      <th></th>\n",
       "      <th>SF</th>\n",
       "      <th>Sf</th>\n",
       "      <th>sF</th>\n",
       "      <th>sf</th>\n",
       "    </tr>\n",
       "  </thead>\n",
       "  <tbody>\n",
       "    <tr>\n",
       "      <th>sF</th>\n",
       "      <td>SFsF</td>\n",
       "      <td>SFsf</td>\n",
       "      <td>SFsF</td>\n",
       "      <td>SFsf</td>\n",
       "    </tr>\n",
       "    <tr>\n",
       "      <th>sf</th>\n",
       "      <td>SfsF</td>\n",
       "      <td>Sfsf</td>\n",
       "      <td>SfsF</td>\n",
       "      <td>Sfsf</td>\n",
       "    </tr>\n",
       "    <tr>\n",
       "      <th>sF</th>\n",
       "      <td>sFsF</td>\n",
       "      <td>sFsf</td>\n",
       "      <td>sFsF</td>\n",
       "      <td>sFsf</td>\n",
       "    </tr>\n",
       "    <tr>\n",
       "      <th>sf</th>\n",
       "      <td>sfsF</td>\n",
       "      <td>sfsf</td>\n",
       "      <td>sfsF</td>\n",
       "      <td>sfsf</td>\n",
       "    </tr>\n",
       "  </tbody>\n",
       "</table>\n",
       "</div>"
      ],
      "text/plain": [
       "      SF    Sf    sF    sf\n",
       "sF  SFsF  SFsf  SFsF  SFsf\n",
       "sf  SfsF  Sfsf  SfsF  Sfsf\n",
       "sF  sFsF  sFsf  sFsF  sFsf\n",
       "sf  sfsF  sfsf  sfsF  sfsf"
      ]
     },
     "metadata": {},
     "execution_count": 4
    }
   ],
   "metadata": {}
  }
 ],
 "metadata": {
  "interpreter": {
   "hash": "50292dbb1f747f7151d445135d392af3138fb3c65386d17d9510cb605222b10b"
  },
  "kernelspec": {
   "name": "python3",
   "display_name": "Python 3.9.6 64-bit"
  },
  "language_info": {
   "codemirror_mode": {
    "name": "ipython",
    "version": 3
   },
   "file_extension": ".py",
   "mimetype": "text/x-python",
   "name": "python",
   "nbconvert_exporter": "python",
   "pygments_lexer": "ipython3",
   "version": "3.9.6"
  }
 },
 "nbformat": 4,
 "nbformat_minor": 4
}